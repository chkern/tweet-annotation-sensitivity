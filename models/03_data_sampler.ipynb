{
 "cells": [
  {
   "cell_type": "code",
   "execution_count": 11,
   "metadata": {},
   "outputs": [],
   "source": [
    "import pandas as pd\n",
    "import numpy as np\n",
    "from collections import Counter\n",
    "import random\n",
    "random.seed(42)"
   ]
  },
  {
   "attachments": {},
   "cell_type": "markdown",
   "metadata": {},
   "source": [
    "#### Code for sampling to 3 examples per tweet"
   ]
  },
  {
   "cell_type": "code",
   "execution_count": 28,
   "metadata": {},
   "outputs": [],
   "source": [
    "for label_to_class in [\"hate.speech\", \"offensive.language\"]:\n",
    "  for version in [\"A\",\"B\",\"C\",\"D\",\"E\"]:\n",
    "    csv = pd.read_csv('../data/version'+version+'_train_s.csv',header=0)\n",
    "    # create a new csv df\n",
    "    csv_new = pd.DataFrame(csv, columns=[label_to_class, \"tweet_hashed\"])\n",
    "    # drop all rows that have any NaN values\n",
    "    csv_new_clean = csv_new.dropna(axis=0,how=\"any\")\n",
    "    # save tweets into a list\n",
    "    tweet=list(csv_new_clean['tweet_hashed'])\n",
    "    # count tweet freqs\n",
    "    tweet_count=Counter(tweet)\n",
    "    for t, c in tweet_count.items():\n",
    "        if c > 3:\n",
    "           # get the index for a specific tweet into a list\n",
    "           index = csv_new_clean[csv_new_clean.tweet_hashed == t].index.tolist()\n",
    "           # randomly choose index to drop\n",
    "           index_to_drop = random.sample(index, c-3) # drop to 3 samples per tweet\n",
    "           csv_new_clean = csv_new_clean.drop(index_to_drop, axis=0)\n",
    "        elif c < 3:\n",
    "           index = csv_new_clean[csv_new_clean.tweet_hashed == t].index.tolist()\n",
    "           csv_new_clean = csv_new_clean.drop(index, axis=0)\n",
    "    csv_new_clean.to_csv(\"../data_sampled/version\"+version+label_to_class+'_train_sampled.csv')"
   ]
  },
  {
   "attachments": {},
   "cell_type": "markdown",
   "metadata": {},
   "source": [
    "#### Code for getting the median label for each tweet"
   ]
  },
  {
   "cell_type": "code",
   "execution_count": null,
   "metadata": {},
   "outputs": [],
   "source": [
    "def get_median(data):\n",
    "    data = sorted(data)\n",
    "    size = len(data)\n",
    "    if size % 2 == 0:\n",
    "        median = (data[size//2]+data[size//2-1])/2\n",
    "        data[0] = median\n",
    "    if size % 2 == 1:\n",
    "        median = data[(size-1)//2]\n",
    "        data[0] = median\n",
    "    return data[0]\n",
    "for label_to_class in [\"hate.speech\", \"offensive.language\"]:\n",
    "  for version in [\"A\",\"B\",\"C\",\"D\",\"E\"]:\n",
    "    new_csv = pd.read_csv(\"../temp/version\"+version+label_to_class+'_train_sampled.csv',header=0)\n",
    "    median_csv= pd.DataFrame(columns=[label_to_class, \"tweet_hashed\"])\n",
    "    for tweet in list(set(list(new_csv[\"tweet_hashed\"]))):\n",
    "        l = []\n",
    "        labels=list(new_csv[label_to_class])\n",
    "        index = new_csv[new_csv.tweet_hashed == tweet].index.tolist()\n",
    "        for i in index:\n",
    "            l.append(labels[i])\n",
    "        median = get_median(l)\n",
    "        median_csv.loc[len(median_csv)]=[median, tweet]\n",
    "    median_csv.to_csv(\"../data_median/version\"+version+label_to_class+'_train_median.csv')"
   ]
  }
 ],
 "metadata": {
  "kernelspec": {
   "display_name": "Python 3",
   "language": "python",
   "name": "python3"
  },
  "language_info": {
   "codemirror_mode": {
    "name": "ipython",
    "version": 3
   },
   "file_extension": ".py",
   "mimetype": "text/x-python",
   "name": "python",
   "nbconvert_exporter": "python",
   "pygments_lexer": "ipython3",
   "version": "3.8.5"
  },
  "orig_nbformat": 4,
  "vscode": {
   "interpreter": {
    "hash": "aee8b7b246df8f9039afb4144a1f6fd8d2ca17a180786b69acc140d282b71a49"
   }
  }
 },
 "nbformat": 4,
 "nbformat_minor": 2
}
